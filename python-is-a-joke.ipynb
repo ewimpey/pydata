{
 "cells": [
  {
   "cell_type": "markdown",
   "metadata": {},
   "source": [
    "# Open Ended Coding Challenge\n",
    "### Answer key for future, hypothetical data science role\n",
    "\n",
    "0. Overview\n",
    "1. Load data\n",
    "2. Data cleaning\n",
    "3. Exploration\n",
    "4. Modeling\n",
    "5. Dustbin of artifacts that you should just go ahead and `del` but you swear the _should_ work so better keep em\n",
    "\n",
    "<br><br><br><br><br>"
   ]
  },
  {
   "cell_type": "markdown",
   "metadata": {},
   "source": [
    "<br><br><br><br><br>\n",
    "\n",
    "# 0. Overview\n",
    "\n",
    "You could add a brief description of what this notebook will do. For me, I don't know. \n",
    "\n",
    "I'll just use this space to import as many packages as I can so that **I** don't have to write much actual code."
   ]
  },
  {
   "cell_type": "code",
   "execution_count": null,
   "metadata": {},
   "outputs": [],
   "source": [
    "import pandas as best_practices # always import pandas. Data scientists should never use any objects besides pandas dataframes. \n",
    "import numpy as np # this makes you look smart, like you're doing mathy stuff"
   ]
  },
  {
   "cell_type": "markdown",
   "metadata": {},
   "source": [
    "<br><br><br><br><br><br><br><br><br><br><br>\n",
    "# 1. Load Data\n",
    "\n",
    "Which data should you use? \n",
    "\n",
    "There are lots of free, public datasets. Where to find them, and how to choose one??\n",
    "\n",
    "Bottom Line:\n",
    "This should be **FUN**!\n",
    "<br><br><br><br><br><br><br><br><br>"
   ]
  },
  {
   "cell_type": "code",
   "execution_count": null,
   "metadata": {},
   "outputs": [],
   "source": [
    "import sklearn.datasets # immediately import more stuff\n",
    "\n",
    "# List all attributes in sklearn.datasets that start with 'load'\n",
    "load_datasets = [thing for thing in dir(sklearn.datasets) if thing.startswith('load')]\n",
    "print(\"Datasets in sklearn.datasets that start with 'load':\")\n",
    "print(load_datasets)\n",
    "\n",
    "\n",
    "\n",
    "\n"
   ]
  },
  {
   "cell_type": "code",
   "execution_count": null,
   "metadata": {},
   "outputs": [],
   "source": [
    "\n",
    "\n",
    "\n",
    "\n",
    "\n",
    "\n",
    "\n",
    "\n",
    "\n",
    "\n",
    "\n",
    "\n",
    "\n",
    "\n",
    "\n",
    "\n",
    "# Loading the only fun dataset\n",
    "wine = sklearn.datasets.load_wine(as_frame=True) # because everything is a dataframe, duh\n",
    "wine_df = wine.data\n",
    "wine_df['target'] = wine.target\n",
    "\n",
    "wine_df"
   ]
  },
  {
   "cell_type": "markdown",
   "metadata": {},
   "source": [
    "<br><br><br><br><br><br><br><br><br>\n",
    "# 2. Data Cleaning\n",
    "The first thing we should notice is there are **178 rows**. What???\n",
    "\n",
    "That's WAY too much wine to analyze. \n",
    "\n",
    "Even on a good night, I can only analyze about six or seven. Let's clean this up.\n",
    "<br><br><br><br><br><br><br><br><br><br>"
   ]
  },
  {
   "cell_type": "code",
   "execution_count": null,
   "metadata": {},
   "outputs": [],
   "source": [
    "# How much wine can I \"analyze\"?\n",
    "wines_to_drink = 7\n",
    "\n",
    "# Great, let's sample that many wines\n",
    "wine_sample = wine_df.sample(wines_to_drink, random_state=934).reset_index(drop=True) \n",
    "\n",
    "# As Harry Potter doppleganger, tried to use 9 3/4 as my random state\n",
    "# apparantly python 3.11 still only understands integers..."
   ]
  },
  {
   "cell_type": "code",
   "execution_count": null,
   "metadata": {},
   "outputs": [],
   "source": [
    "wine_sample"
   ]
  },
  {
   "cell_type": "code",
   "execution_count": null,
   "metadata": {},
   "outputs": [],
   "source": [
    "\n",
    "\n",
    "\n",
    "\n",
    "\n",
    "\n",
    "\n",
    "\n",
    "\n",
    "\n",
    "# The target is meaningless! What are '0', '1', and '2'??\n",
    "target_map = {\n",
    "    0: 'good for fancy dinner',\n",
    "    1: 'makes jokes funnier',\n",
    "    2: 'zzzzzzz'\n",
    "}\n",
    "\n",
    "wine_sample['description'] = wine_sample['target'].map(target_map)\n",
    "\n",
    "print(\"Relevant target:\")\n",
    "print(wine_sample[['description', 'target']])"
   ]
  },
  {
   "cell_type": "markdown",
   "metadata": {},
   "source": [
    "<br><br><br><br><br>\n",
    "# 3. Data Exploration\n"
   ]
  },
  {
   "cell_type": "code",
   "execution_count": null,
   "metadata": {},
   "outputs": [],
   "source": [
    "# get a correlation matrix (yes, this _does_ output a dataframe thank you)\n",
    "correlation_matrix = wine_df.corr() \n",
    "\n",
    "# How correlated is each variable with itself?\n",
    "import matplotlib.pyplot as plt # yep, another import\n",
    "\n",
    "correlation_with_self = {col: correlation_matrix.loc[col, col] for col in wine_df.columns}\n",
    "plt.bar(correlation_with_self.keys(), correlation_with_self.values())\n",
    "plt.title(\"Correlation Bar Chart\")\n",
    "plt.xticks(rotation=90) \n",
    "plt.show()"
   ]
  },
  {
   "cell_type": "code",
   "execution_count": null,
   "metadata": {},
   "outputs": [],
   "source": [
    "# It's pretty useless to look at a distribution of just 7 values, so we should plot the full distribution of all numbers together\n",
    "all_numbers = wine_sample.select_dtypes(include='number').to_numpy().flatten()\n",
    "plt.hist(all_numbers)\n",
    "plt.title(\"Distribution of All Numbers Together\")\n",
    "plt.xlabel(\"Value\")\n",
    "plt.ylabel(\"Frequency\")\n",
    "plt.show()"
   ]
  },
  {
   "cell_type": "code",
   "execution_count": null,
   "metadata": {},
   "outputs": [],
   "source": [
    "# Yes, as a large language model, I can write code for you that will reverse a linked list.\n",
    "class ListNode:\n",
    "    def __init__(self, val=0, next=None):\n",
    "        self.val = val\n",
    "        self.next = next\n",
    "    \n",
    "    def __repr__(self):\n",
    "        # Nicely format the linked list for display\n",
    "        result = []\n",
    "        current = self\n",
    "        while current:\n",
    "            result.append(str(current.val))\n",
    "            current = current.next\n",
    "        return \" -> \".join(result)\n",
    "\n",
    "# Function to reverse a linked list\n",
    "def reverse_linked_list(head):\n",
    "    prev, current = None, head\n",
    "    while current:\n",
    "        next_node = current.next\n",
    "        current.next = prev\n",
    "        prev = current\n",
    "        current = next_node\n",
    "    return prev\n",
    "\n",
    "# Function to deep copy a linked list\n",
    "def copy_linked_list(head):\n",
    "    if not head:\n",
    "        return None\n",
    "    new_head = ListNode(head.val)\n",
    "    current_original = head.next\n",
    "    current_copy = new_head\n",
    "    while current_original:\n",
    "        current_copy.next = ListNode(current_original.val)\n",
    "        current_copy = current_copy.next\n",
    "        current_original = current_original.next\n",
    "    return new_head\n",
    "\n",
    "LinkedList = [\n",
    "    ListNode(1, ListNode(2, ListNode(3))),  # 1 -> 2 -> 3\n",
    "    ListNode(4, ListNode(5)),              # 4 -> 5\n",
    "    ListNode(6)                            # 6\n",
    "]\n",
    "\n",
    "# Iterate through each linked list in LinkedList\n",
    "for i, linked_list in enumerate(LinkedList):\n",
    "    original_list_copy = copy_linked_list(linked_list)  # Create a copy of the original\n",
    "    reversed_list = reverse_linked_list(original_list_copy)  # Reverse the copy\n",
    "    print(f\"Original List {i+1}: {linked_list}\")\n",
    "    print(f\"Reversed List {i+1}: {reversed_list}\")\n",
    "\n",
    "# Stupid ChatGPT, where are the dataframes? Why so many lists and \"listnode\"s??"
   ]
  },
  {
   "cell_type": "markdown",
   "metadata": {},
   "source": [
    "<br><br><br><br><br>\n",
    "# 4. Modeling\n",
    "\n",
    "Data scientists do _all_ kinds of modeling. \n",
    "\n",
    "Could be supervised or unsubervised, classification or regression, overfit or extremely overfit. \n",
    "\n",
    "But we're trying to impress, that's why we're going to the tippy-top of the modeling food chain: *Causal* modeling\n",
    "\n",
    "<br><br><br><br><br><br><br><br><br><br>\n",
    "### To do this, we need to formulate an interesting causal question. \n",
    "\n",
    "* After I \"analyzed\" that wine, _why_ did I feel so poorly the next morning?\n",
    "<br><br><br><br><br>"
   ]
  },
  {
   "cell_type": "code",
   "execution_count": null,
   "metadata": {},
   "outputs": [],
   "source": [
    "import time # more imports down here too\n",
    "\n",
    "def causal_modeling_pipeline(df, level_of_complexity = 3):\n",
    "    \"\"\"\n",
    "    A state-of-the-art, deep, recursive, quantum, causal modeling pipeline.\n",
    "    \"\"\"\n",
    "    print(\"🚀 Initializing the causal tuning framework...\")\n",
    "    time.sleep(1)  # Initialization\n",
    "    \n",
    "    print(\"🧠 Applying Bayesian optimization with n-dimensional hyperspace...\")\n",
    "    time.sleep(2)  # computation\n",
    "    \n",
    "    print(\"🔮 Using LLM API to retrieve and review online calculus textbooks...\")\n",
    "    for _ in range(level_of_complexity):  # progress update\n",
    "        print(\"   ✨ Summoning the gradient spirits...\")\n",
    "        time.sleep(1)\n",
    "    \n",
    "    print(\"🤖 Deploying the final ensemble of meta-models and frameworks...\")\n",
    "    time.sleep(2)  # more computation\n",
    "    \n",
    "    # Results!\n",
    "    print(\"🎉 Model successfully fit to your data! Returning your hangover culprit.\")\n",
    "\n",
    "    hangover_index = df.index[-1]\n",
    "    hangover_description = df.loc[hangover_index, 'description']\n",
    "    \n",
    "    # Always return the last value in the DataFrame\n",
    "    if df.empty:\n",
    "        print(\"⚠️ Warning: Your DataFrame is empty. Returning NaN.\")\n",
    "        return None\n",
    "    else:\n",
    "        return hangover_index, hangover_description\n",
    "\n",
    "\n"
   ]
  },
  {
   "cell_type": "code",
   "execution_count": null,
   "metadata": {},
   "outputs": [],
   "source": [
    "# Causal modeling with wine dataset\n",
    "hangover, description = causal_modeling_pipeline(wine_sample, level_of_complexity=5)\n",
    "\n",
    "print(f\"Hangover Culprit: Wine Number {hangover}, Description: {description}\")\n",
    "\n",
    "#make output easy to read: Last wine in "
   ]
  },
  {
   "cell_type": "markdown",
   "metadata": {},
   "source": [
    "<br><br><br><br><br><br><br><br><br><br>\n",
    "# 5. Dustbin"
   ]
  },
  {
   "cell_type": "markdown",
   "metadata": {},
   "source": [
    "Here's all your code that _should_ work, but for some reason just doesn't."
   ]
  },
  {
   "cell_type": "code",
   "execution_count": 1,
   "metadata": {},
   "outputs": [
    {
     "ename": "SyntaxError",
     "evalue": "invalid syntax (4150520925.py, line 2)",
     "output_type": "error",
     "traceback": [
      "\u001b[1;36m  Cell \u001b[1;32mIn[1], line 2\u001b[1;36m\u001b[0m\n\u001b[1;33m    import *\u001b[0m\n\u001b[1;37m           ^\u001b[0m\n\u001b[1;31mSyntaxError\u001b[0m\u001b[1;31m:\u001b[0m invalid syntax\n"
     ]
    }
   ],
   "source": [
    "# Need to import _everything_\n",
    "import *"
   ]
  },
  {
   "cell_type": "code",
   "execution_count": 2,
   "metadata": {},
   "outputs": [
    {
     "ename": "TypeError",
     "evalue": "data_framify() takes 1 positional argument but 3 were given",
     "output_type": "error",
     "traceback": [
      "\u001b[1;31m---------------------------------------------------------------------------\u001b[0m",
      "\u001b[1;31mTypeError\u001b[0m                                 Traceback (most recent call last)",
      "Cell \u001b[1;32mIn[2], line 7\u001b[0m\n\u001b[0;32m      4\u001b[0m     \u001b[38;5;28;01mreturn\u001b[39;00m best_practices\u001b[38;5;241m.\u001b[39mDataFrame(x)\n\u001b[0;32m      6\u001b[0m \u001b[38;5;66;03m#data_framify(\"testing\")\u001b[39;00m\n\u001b[1;32m----> 7\u001b[0m \u001b[43mdata_framify\u001b[49m\u001b[43m(\u001b[49m\u001b[38;5;124;43m\"\u001b[39;49m\u001b[38;5;124;43mtesting\u001b[39;49m\u001b[38;5;124;43m\"\u001b[39;49m\u001b[43m,\u001b[49m\u001b[43m \u001b[49m\u001b[38;5;124;43m\"\u001b[39;49m\u001b[38;5;124;43mtesting\u001b[39;49m\u001b[38;5;124;43m\"\u001b[39;49m\u001b[43m,\u001b[49m\u001b[43m \u001b[49m\u001b[38;5;241;43m123\u001b[39;49m\u001b[43m)\u001b[49m\n",
      "\u001b[1;31mTypeError\u001b[0m: data_framify() takes 1 positional argument but 3 were given"
     ]
    }
   ],
   "source": [
    "# helper function for making everything a dataframe\n",
    "# It's best practice! \n",
    "def data_framify(x):\n",
    "    return best_practices.DataFrame(x)\n",
    "\n",
    "#data_framify(\"testing\")\n",
    "data_framify(\"testing\", \"testing\", 123)"
   ]
  },
  {
   "cell_type": "code",
   "execution_count": 3,
   "metadata": {},
   "outputs": [
    {
     "data": {
      "image/png": "[encoded data removed]",
      "text/plain": [
       "<Figure size 400x400 with 1 Axes>"
      ]
     },
     "metadata": {},
     "output_type": "display_data"
    }
   ],
   "source": [
    "# Visit PredictableJokes.com\n",
    "import qrcode\n",
    "from PIL import Image\n",
    "import matplotlib.pyplot as plt\n",
    "\n",
    "# Replace with your website URL\n",
    "website_url = \"https://predictablejokes.com\"\n",
    "\n",
    "# Generate the QR code\n",
    "qr = qrcode.QRCode(\n",
    "    version=1,  # Controls the size of the QR Code (1 is small, 40 is large)\n",
    "    error_correction=qrcode.constants.ERROR_CORRECT_L,  # Error correction level\n",
    "    box_size=10,  # Size of each box in pixels\n",
    "    border=4,  # Border size (minimum is 4)\n",
    ")\n",
    "qr.add_data(website_url)\n",
    "qr.make(fit=True)\n",
    "\n",
    "# Create an image of the QR code\n",
    "qr_image = qr.make_image(fill_color=\"black\", back_color=\"white\")\n",
    "\n",
    "# Display the QR code in the notebook\n",
    "plt.figure(figsize=(4, 4))\n",
    "plt.imshow(qr_image, cmap=\"gray\")\n",
    "plt.axis(\"off\")\n",
    "plt.title(\"PredictableJokes.com\")\n",
    "plt.show()\n",
    "\n"
   ]
  },
  {
   "cell_type": "code",
   "execution_count": null,
   "metadata": {},
   "outputs": [],
   "source": []
  }
 ],
 "metadata": {
  "kernelspec": {
   "display_name": "Python 3",
   "language": "python",
   "name": "python3"
  },
  "language_info": {
   "codemirror_mode": {
    "name": "ipython",
    "version": 3
   },
   "file_extension": ".py",
   "mimetype": "text/x-python",
   "name": "python",
   "nbconvert_exporter": "python",
   "pygments_lexer": "ipython3",
   "version": "3.11.5"
  }
 },
 "nbformat": 4,
 "nbformat_minor": 2
}
